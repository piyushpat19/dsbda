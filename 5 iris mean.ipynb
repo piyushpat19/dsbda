{
 "cells": [
  {
   "cell_type": "code",
   "execution_count": 1,
   "id": "e818398f-bad2-42e1-b1ef-184c6e5daa7c",
   "metadata": {},
   "outputs": [
    {
     "data": {
      "text/html": [
       "<div>\n",
       "<style scoped>\n",
       "    .dataframe tbody tr th:only-of-type {\n",
       "        vertical-align: middle;\n",
       "    }\n",
       "\n",
       "    .dataframe tbody tr th {\n",
       "        vertical-align: top;\n",
       "    }\n",
       "\n",
       "    .dataframe thead th {\n",
       "        text-align: right;\n",
       "    }\n",
       "</style>\n",
       "<table border=\"1\" class=\"dataframe\">\n",
       "  <thead>\n",
       "    <tr style=\"text-align: right;\">\n",
       "      <th></th>\n",
       "      <th>Id</th>\n",
       "      <th>SepalLengthCm</th>\n",
       "      <th>SepalWidthCm</th>\n",
       "      <th>PetalLengthCm</th>\n",
       "      <th>PetalWidthCm</th>\n",
       "      <th>Species</th>\n",
       "    </tr>\n",
       "  </thead>\n",
       "  <tbody>\n",
       "    <tr>\n",
       "      <th>0</th>\n",
       "      <td>1</td>\n",
       "      <td>5.1</td>\n",
       "      <td>3.5</td>\n",
       "      <td>1.4</td>\n",
       "      <td>0.2</td>\n",
       "      <td>Iris-setosa</td>\n",
       "    </tr>\n",
       "    <tr>\n",
       "      <th>1</th>\n",
       "      <td>2</td>\n",
       "      <td>4.9</td>\n",
       "      <td>3.0</td>\n",
       "      <td>1.4</td>\n",
       "      <td>0.2</td>\n",
       "      <td>Iris-setosa</td>\n",
       "    </tr>\n",
       "    <tr>\n",
       "      <th>2</th>\n",
       "      <td>3</td>\n",
       "      <td>4.7</td>\n",
       "      <td>3.2</td>\n",
       "      <td>1.3</td>\n",
       "      <td>0.2</td>\n",
       "      <td>Iris-setosa</td>\n",
       "    </tr>\n",
       "    <tr>\n",
       "      <th>3</th>\n",
       "      <td>4</td>\n",
       "      <td>4.6</td>\n",
       "      <td>3.1</td>\n",
       "      <td>1.5</td>\n",
       "      <td>0.2</td>\n",
       "      <td>Iris-setosa</td>\n",
       "    </tr>\n",
       "    <tr>\n",
       "      <th>4</th>\n",
       "      <td>5</td>\n",
       "      <td>5.0</td>\n",
       "      <td>3.6</td>\n",
       "      <td>1.4</td>\n",
       "      <td>0.2</td>\n",
       "      <td>Iris-setosa</td>\n",
       "    </tr>\n",
       "  </tbody>\n",
       "</table>\n",
       "</div>"
      ],
      "text/plain": [
       "   Id  SepalLengthCm  SepalWidthCm  PetalLengthCm  PetalWidthCm      Species\n",
       "0   1            5.1           3.5            1.4           0.2  Iris-setosa\n",
       "1   2            4.9           3.0            1.4           0.2  Iris-setosa\n",
       "2   3            4.7           3.2            1.3           0.2  Iris-setosa\n",
       "3   4            4.6           3.1            1.5           0.2  Iris-setosa\n",
       "4   5            5.0           3.6            1.4           0.2  Iris-setosa"
      ]
     },
     "execution_count": 1,
     "metadata": {},
     "output_type": "execute_result"
    }
   ],
   "source": [
    "import pandas as pd\n",
    "df= pd.read_csv('Iris.csv') #https://www.kaggle.com/datasets/uciml/iris\n",
    "df.head()"
   ]
  },
  {
   "cell_type": "code",
   "execution_count": 2,
   "id": "334e8720-83c0-478a-9ded-8c40cca5896b",
   "metadata": {},
   "outputs": [],
   "source": [
    "#Provide summary statistics (mean, median, minimum, maximum, standard deviation) grouped by a categorical variable\n",
    "summary_stats = df.groupby('Species').describe()"
   ]
  },
  {
   "cell_type": "code",
   "execution_count": 3,
   "id": "be002583-9de0-439d-8988-271931da0d19",
   "metadata": {},
   "outputs": [
    {
     "name": "stdout",
     "output_type": "stream",
     "text": [
      "                   Id                                                        \\\n",
      "                count   mean       std    min     25%    50%     75%    max   \n",
      "Species                                                                       \n",
      "Iris-setosa      50.0   25.5  14.57738    1.0   13.25   25.5   37.75   50.0   \n",
      "Iris-versicolor  50.0   75.5  14.57738   51.0   63.25   75.5   87.75  100.0   \n",
      "Iris-virginica   50.0  125.5  14.57738  101.0  113.25  125.5  137.75  150.0   \n",
      "\n",
      "                SepalLengthCm         ... PetalLengthCm      PetalWidthCm  \\\n",
      "                        count   mean  ...           75%  max        count   \n",
      "Species                               ...                                   \n",
      "Iris-setosa              50.0  5.006  ...         1.575  1.9         50.0   \n",
      "Iris-versicolor          50.0  5.936  ...         4.600  5.1         50.0   \n",
      "Iris-virginica           50.0  6.588  ...         5.875  6.9         50.0   \n",
      "\n",
      "                                                           \n",
      "                  mean       std  min  25%  50%  75%  max  \n",
      "Species                                                    \n",
      "Iris-setosa      0.244  0.107210  0.1  0.2  0.2  0.3  0.6  \n",
      "Iris-versicolor  1.326  0.197753  1.0  1.2  1.3  1.5  1.8  \n",
      "Iris-virginica   2.026  0.274650  1.4  1.8  2.0  2.3  2.5  \n",
      "\n",
      "[3 rows x 40 columns]\n"
     ]
    }
   ],
   "source": [
    "print(summary_stats)"
   ]
  },
  {
   "cell_type": "code",
   "execution_count": 4,
   "id": "b0d9ceb9-9af1-4f95-b60e-4a8311d4a76a",
   "metadata": {},
   "outputs": [],
   "source": [
    "# Create a list that contains a numeric value for each response to the categorical variable\n",
    "species_map = {'Iris-setosa': 0, 'Iris-versicolor': 1, 'Iris-virginica': 2}\n",
    "\n",
    "# Apply the mapping to create a numeric column\n",
    "df['species_numeric'] = df['Species'].map(species_map)  # Adjusted column name\n"
   ]
  },
  {
   "cell_type": "code",
   "execution_count": 5,
   "id": "8550d185-7273-43bc-acd4-d30bf5353de6",
   "metadata": {},
   "outputs": [
    {
     "name": "stdout",
     "output_type": "stream",
     "text": [
      "       Species  species_numeric\n",
      "0  Iris-setosa                0\n",
      "1  Iris-setosa                0\n",
      "2  Iris-setosa                0\n",
      "3  Iris-setosa                0\n",
      "4  Iris-setosa                0\n"
     ]
    }
   ],
   "source": [
    "print(df[['Species', 'species_numeric']].head())"
   ]
  },
  {
   "cell_type": "code",
   "execution_count": 6,
   "id": "987e5b8a-5173-49b7-ab4a-8c28652c1321",
   "metadata": {},
   "outputs": [
    {
     "name": "stdout",
     "output_type": "stream",
     "text": [
      "Iris-setosa Stats:\n",
      "             Id  SepalLengthCm  SepalWidthCm  PetalLengthCm  PetalWidthCm  \\\n",
      "count  50.00000       50.00000     50.000000      50.000000      50.00000   \n",
      "mean   25.50000        5.00600      3.418000       1.464000       0.24400   \n",
      "std    14.57738        0.35249      0.381024       0.173511       0.10721   \n",
      "min     1.00000        4.30000      2.300000       1.000000       0.10000   \n",
      "25%    13.25000        4.80000      3.125000       1.400000       0.20000   \n",
      "50%    25.50000        5.00000      3.400000       1.500000       0.20000   \n",
      "75%    37.75000        5.20000      3.675000       1.575000       0.30000   \n",
      "max    50.00000        5.80000      4.400000       1.900000       0.60000   \n",
      "\n",
      "       species_numeric  \n",
      "count             50.0  \n",
      "mean               0.0  \n",
      "std                0.0  \n",
      "min                0.0  \n",
      "25%                0.0  \n",
      "50%                0.0  \n",
      "75%                0.0  \n",
      "max                0.0  \n",
      "\n",
      "Iris-versicolor Stats:\n",
      "              Id  SepalLengthCm  SepalWidthCm  PetalLengthCm  PetalWidthCm  \\\n",
      "count   50.00000      50.000000     50.000000      50.000000     50.000000   \n",
      "mean    75.50000       5.936000      2.770000       4.260000      1.326000   \n",
      "std     14.57738       0.516171      0.313798       0.469911      0.197753   \n",
      "min     51.00000       4.900000      2.000000       3.000000      1.000000   \n",
      "25%     63.25000       5.600000      2.525000       4.000000      1.200000   \n",
      "50%     75.50000       5.900000      2.800000       4.350000      1.300000   \n",
      "75%     87.75000       6.300000      3.000000       4.600000      1.500000   \n",
      "max    100.00000       7.000000      3.400000       5.100000      1.800000   \n",
      "\n",
      "       species_numeric  \n",
      "count             50.0  \n",
      "mean               1.0  \n",
      "std                0.0  \n",
      "min                1.0  \n",
      "25%                1.0  \n",
      "50%                1.0  \n",
      "75%                1.0  \n",
      "max                1.0  \n",
      "\n",
      "Iris-virginica Stats:\n",
      "              Id  SepalLengthCm  SepalWidthCm  PetalLengthCm  PetalWidthCm  \\\n",
      "count   50.00000       50.00000     50.000000      50.000000      50.00000   \n",
      "mean   125.50000        6.58800      2.974000       5.552000       2.02600   \n",
      "std     14.57738        0.63588      0.322497       0.551895       0.27465   \n",
      "min    101.00000        4.90000      2.200000       4.500000       1.40000   \n",
      "25%    113.25000        6.22500      2.800000       5.100000       1.80000   \n",
      "50%    125.50000        6.50000      3.000000       5.550000       2.00000   \n",
      "75%    137.75000        6.90000      3.175000       5.875000       2.30000   \n",
      "max    150.00000        7.90000      3.800000       6.900000       2.50000   \n",
      "\n",
      "       species_numeric  \n",
      "count             50.0  \n",
      "mean               2.0  \n",
      "std                0.0  \n",
      "min                2.0  \n",
      "25%                2.0  \n",
      "50%                2.0  \n",
      "75%                2.0  \n",
      "max                2.0  \n"
     ]
    }
   ],
   "source": [
    "#3. Display basic statistical details (percentile, mean, standard deviation) for the species\n",
    "# Filter the dataset for each species and calculate basic statistical details\n",
    "species_stats = df[df['Species'] == 'Iris-setosa'].describe(percentiles=[.25, .5, .75])\n",
    "\n",
    "# Display the statistics for 'Iris-setosa'\n",
    "print(\"Iris-setosa Stats:\")\n",
    "print(species_stats)\n",
    "\n",
    "# Repeat for Iris-versicolor and Iris-virginica\n",
    "species_versicolor_stats = df[df['Species'] == 'Iris-versicolor'].describe(percentiles=[.25, .5, .75])\n",
    "print(\"\\nIris-versicolor Stats:\")\n",
    "print(species_versicolor_stats)\n",
    "\n",
    "species_virginica_stats = df[df['Species'] == 'Iris-virginica'].describe(percentiles=[.25, .5, .75])\n",
    "print(\"\\nIris-virginica Stats:\")\n",
    "print(species_virginica_stats)\n"
   ]
  },
  {
   "cell_type": "code",
   "execution_count": null,
   "id": "95ceb996-f563-4482-8e75-8a5fca668491",
   "metadata": {},
   "outputs": [],
   "source": []
  },
  {
   "cell_type": "code",
   "execution_count": null,
   "id": "424a9fad-0c7b-44bc-aece-08b0aa9547b6",
   "metadata": {},
   "outputs": [],
   "source": []
  },
  {
   "cell_type": "code",
   "execution_count": null,
   "id": "91e49606-55d7-4ee0-a2d4-179d34f3c4bd",
   "metadata": {},
   "outputs": [],
   "source": []
  }
 ],
 "metadata": {
  "kernelspec": {
   "display_name": "Python [conda env:base] *",
   "language": "python",
   "name": "conda-base-py"
  },
  "language_info": {
   "codemirror_mode": {
    "name": "ipython",
    "version": 3
   },
   "file_extension": ".py",
   "mimetype": "text/x-python",
   "name": "python",
   "nbconvert_exporter": "python",
   "pygments_lexer": "ipython3",
   "version": "3.12.3"
  }
 },
 "nbformat": 4,
 "nbformat_minor": 5
}
